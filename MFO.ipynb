{
  "nbformat": 4,
  "nbformat_minor": 0,
  "metadata": {
    "colab": {
      "provenance": [],
      "authorship_tag": "ABX9TyMaEEyMpdAlXqUaduZqMnoR",
      "include_colab_link": true
    },
    "kernelspec": {
      "name": "python3",
      "display_name": "Python 3"
    },
    "language_info": {
      "name": "python"
    }
  },
  "cells": [
    {
      "cell_type": "markdown",
      "metadata": {
        "id": "view-in-github",
        "colab_type": "text"
      },
      "source": [
        "<a href=\"https://colab.research.google.com/github/raghavmehta1/ImageClassification/blob/main/MFO.ipynb\" target=\"_parent\"><img src=\"https://colab.research.google.com/assets/colab-badge.svg\" alt=\"Open In Colab\"/></a>"
      ]
    },
    {
      "cell_type": "code",
      "execution_count": 27,
      "metadata": {
        "colab": {
          "base_uri": "https://localhost:8080/"
        },
        "id": "GyuO0tPyCKOz",
        "outputId": "210dd334-d54a-439f-cfe8-7581f4382bfe"
      },
      "outputs": [
        {
          "output_type": "stream",
          "name": "stdout",
          "text": [
            "Final Accuracy (Low Fidelity): 1.0000\n",
            "Final Accuracy (High Fidelity): 1.0000\n"
          ]
        }
      ],
      "source": [
        "import pandas as pd\n",
        "import optunity\n",
        "from sklearn.model_selection import train_test_split\n",
        "from sklearn.ensemble import RandomForestClassifier\n",
        "from sklearn.metrics import accuracy_score\n",
        "from sklearn.preprocessing import LabelEncoder\n",
        "\n",
        "# Load your dataset\n",
        "file_path = 'dataset.csv'\n",
        "data = pd.read_csv(file_path)\n",
        "\n",
        "# Encode categorical labels in the target column\n",
        "label_encoder = LabelEncoder()\n",
        "data['Class/ASD Traits '] = label_encoder.fit_transform(data['Class/ASD Traits '])\n",
        "\n",
        "# Extract features (X) and target variable (y)\n",
        "numeric_features = data.select_dtypes(include=['float64', 'int64']).columns\n",
        "X = data[numeric_features].drop(columns=['Case_No', 'Class/ASD Traits '])\n",
        "y = data['Class/ASD Traits ']\n",
        "\n",
        "# Split the data into training and testing sets\n",
        "X_train, X_test, y_train, y_test = train_test_split(X, y, test_size=0.2, random_state=42)\n",
        "\n",
        "# Define the objective function with two fidelity levels\n",
        "def objective_function_low_fidelity(n_estimators_low):\n",
        "    # Train a Random Forest classifier with the given hyperparameters\n",
        "    model = RandomForestClassifier(n_estimators=int(n_estimators_low), random_state=42)\n",
        "    model.fit(X_train, y_train)\n",
        "\n",
        "    # Make predictions on the test set\n",
        "    y_pred = model.predict(X_test)\n",
        "\n",
        "    # Evaluate the model using accuracy\n",
        "    accuracy = accuracy_score(y_test, y_pred)\n",
        "\n",
        "    # Since Optunity minimizes, return the negative accuracy\n",
        "    return -accuracy\n",
        "\n",
        "def objective_function_high_fidelity(n_estimators_high):\n",
        "    # Train a Random Forest classifier with the given hyperparameters\n",
        "    model = RandomForestClassifier(n_estimators=int(n_estimators_high), random_state=42)\n",
        "    model.fit(X_train, y_train)\n",
        "\n",
        "    # Make predictions on the test set\n",
        "    y_pred = model.predict(X_test)\n",
        "\n",
        "    # Evaluate the model using accuracy\n",
        "    accuracy = accuracy_score(y_test, y_pred)\n",
        "\n",
        "    # Since Optunity minimizes, return the negative accuracy\n",
        "    return -accuracy\n",
        "\n",
        "# Set up the search space for hyperparameters at each fidelity level\n",
        "search_space_low_fidelity = {'n_estimators_low': [10, 50]}\n",
        "search_space_high_fidelity = {'n_estimators_high': [50, 200]}\n",
        "\n",
        "# Use Optunity to optimize hyperparameters at each fidelity level\n",
        "optimal_params_low_fidelity, _, _ = optunity.minimize(objective_function_low_fidelity, num_evals=10, **search_space_low_fidelity)\n",
        "optimal_params_high_fidelity, _, _ = optunity.minimize(objective_function_high_fidelity, num_evals=10, **search_space_high_fidelity)\n",
        "\n",
        "# Extract the optimized hyperparameters at each fidelity level\n",
        "best_n_estimators_low = optimal_params_low_fidelity['n_estimators_low']\n",
        "best_n_estimators_high = optimal_params_high_fidelity['n_estimators_high']\n",
        "\n",
        "# Train the final model with the best hyperparameters\n",
        "final_model_low_fidelity = RandomForestClassifier(n_estimators=int(best_n_estimators_low), random_state=42)\n",
        "final_model_high_fidelity = RandomForestClassifier(n_estimators=int(best_n_estimators_high), random_state=42)\n",
        "\n",
        "final_model_low_fidelity.fit(X_train, y_train)\n",
        "final_model_high_fidelity.fit(X_train, y_train)\n",
        "\n",
        "# Make predictions on the test set\n",
        "y_final_pred_low_fidelity = final_model_low_fidelity.predict(X_test)\n",
        "y_final_pred_high_fidelity = final_model_high_fidelity.predict(X_test)\n",
        "\n",
        "# Evaluate the final models\n",
        "final_accuracy_low_fidelity = accuracy_score(y_test, y_final_pred_low_fidelity)\n",
        "final_accuracy_high_fidelity = accuracy_score(y_test, y_final_pred_high_fidelity)\n",
        "\n",
        "print(f\"Final Accuracy (Low Fidelity): {final_accuracy_low_fidelity:.4f}\")\n",
        "print(f\"Final Accuracy (High Fidelity): {final_accuracy_high_fidelity:.4f}\")\n"
      ]
    },
    {
      "cell_type": "code",
      "source": [
        "!pip install --upgrade optunity\n"
      ],
      "metadata": {
        "colab": {
          "base_uri": "https://localhost:8080/"
        },
        "id": "IXPjmSe5Gbbp",
        "outputId": "61a5e136-0be9-4555-eacf-b444fa055fc5"
      },
      "execution_count": 17,
      "outputs": [
        {
          "output_type": "stream",
          "name": "stdout",
          "text": [
            "Requirement already satisfied: optunity in /usr/local/lib/python3.10/dist-packages (1.1.1)\n"
          ]
        }
      ]
    },
    {
      "cell_type": "code",
      "source": [
        "pip install optunity\n"
      ],
      "metadata": {
        "colab": {
          "base_uri": "https://localhost:8080/"
        },
        "id": "USVmYhDjDSjM",
        "outputId": "9f00a61e-94dd-4384-8ee3-6c323d64788d"
      },
      "execution_count": 1,
      "outputs": [
        {
          "output_type": "stream",
          "name": "stdout",
          "text": [
            "Collecting optunity\n",
            "  Downloading Optunity-1.1.1.tar.gz (4.6 MB)\n",
            "\u001b[2K     \u001b[90m━━━━━━━━━━━━━━━━━━━━━━━━━━━━━━━━━━━━━━━━\u001b[0m \u001b[32m4.6/4.6 MB\u001b[0m \u001b[31m15.2 MB/s\u001b[0m eta \u001b[36m0:00:00\u001b[0m\n",
            "\u001b[?25h  Preparing metadata (setup.py) ... \u001b[?25l\u001b[?25hdone\n",
            "Building wheels for collected packages: optunity\n",
            "  Building wheel for optunity (setup.py) ... \u001b[?25l\u001b[?25hdone\n",
            "  Created wheel for optunity: filename=Optunity-1.1.1-py3-none-any.whl size=72029 sha256=8f412de07f37a3e44c04d47e758cfbdcc7b94bcba753b8aba6c70e511cfda7ba\n",
            "  Stored in directory: /root/.cache/pip/wheels/83/98/40/b9956c3386a045f035f9edbf894edd04713db92f29fb58a225\n",
            "Successfully built optunity\n",
            "Installing collected packages: optunity\n",
            "Successfully installed optunity-1.1.1\n"
          ]
        }
      ]
    }
  ]
}